{
  "nbformat": 4,
  "nbformat_minor": 0,
  "metadata": {
    "colab": {
      "provenance": [],
      "authorship_tag": "ABX9TyPADGXszQUf9RbcstODAp05",
      "include_colab_link": true
    },
    "kernelspec": {
      "name": "python3",
      "display_name": "Python 3"
    },
    "language_info": {
      "name": "python"
    }
  },
  "cells": [
    {
      "cell_type": "markdown",
      "metadata": {
        "id": "view-in-github",
        "colab_type": "text"
      },
      "source": [
        "<a href=\"https://colab.research.google.com/github/AlishaJoy/OOPS/blob/main/OOPS.ipynb\" target=\"_parent\"><img src=\"https://colab.research.google.com/assets/colab-badge.svg\" alt=\"Open In Colab\"/></a>"
      ]
    },
    {
      "cell_type": "markdown",
      "source": [
        "# OOP \n",
        "\n",
        "### **Classes , Methods ,Class variables**\n",
        "Class variables are the variables that are shared in all the instances of the class.\n"
      ],
      "metadata": {
        "id": "P_qrafuZJsYl"
      }
    },
    {
      "cell_type": "code",
      "source": [
        "class employee:\n",
        "  raised = 1.04\n",
        "  emp_num = 0\n",
        "  def __init__(self,first,last,sal):\n",
        "    self.fn = first\n",
        "    self.ln = last\n",
        "    self.sal = sal\n",
        "    \n",
        "    employee.emp_num += 1\n",
        "\n",
        "  def fullname(self):\n",
        "    return '{} {}'.format(self.fn,self.ln)\n",
        "  def apply_raise(self):\n",
        "    self.sal = int(self.sal * employee.raised)"
      ],
      "metadata": {
        "id": "zDmV4gPwMF0F"
      },
      "execution_count": null,
      "outputs": []
    },
    {
      "cell_type": "code",
      "source": [
        "emp1 = employee('kiran','john',30000)\n",
        "print(emp1.fn)\n",
        "print(emp1.fullname())"
      ],
      "metadata": {
        "colab": {
          "base_uri": "https://localhost:8080/"
        },
        "id": "HUlecIwqMBBf",
        "outputId": "7afc27d4-09b3-4c0c-8112-dd19eeda4996"
      },
      "execution_count": null,
      "outputs": [
        {
          "output_type": "stream",
          "name": "stdout",
          "text": [
            "kiran\n",
            "kiran john\n"
          ]
        }
      ]
    },
    {
      "cell_type": "code",
      "source": [
        "print(emp1.sal)\n",
        "emp1.apply_raise()\n",
        "print(emp1.sal)"
      ],
      "metadata": {
        "colab": {
          "base_uri": "https://localhost:8080/"
        },
        "id": "iR4NUPwaPRNa",
        "outputId": "95ce8b5f-5776-4ce6-c82a-25d8a6f85c4a"
      },
      "execution_count": null,
      "outputs": [
        {
          "output_type": "stream",
          "name": "stdout",
          "text": [
            "30000\n",
            "31200\n"
          ]
        }
      ]
    },
    {
      "cell_type": "markdown",
      "source": [
        "create a class to keep track of number of employees"
      ],
      "metadata": {
        "id": "7ponHYCQRvd_"
      }
    },
    {
      "cell_type": "code",
      "source": [
        "# class employee:\n",
        "#   emp_num = 0\n",
        "# inside init method put incrementer \n",
        "emp2 = employee('keeran','john',30000)\n",
        "print(employee.emp_num)\n"
      ],
      "metadata": {
        "colab": {
          "base_uri": "https://localhost:8080/"
        },
        "id": "fQAsEp5ZR01J",
        "outputId": "000e4c98-969a-46c0-b462-23f971e13500"
      },
      "execution_count": null,
      "outputs": [
        {
          "output_type": "stream",
          "name": "stdout",
          "text": [
            "1\n"
          ]
        }
      ]
    },
    {
      "cell_type": "markdown",
      "source": [
        "### **Class methods and static methods**\n",
        "Regular methods of the class automatically take in the instances as self \n",
        "To take class as the first argument , we use a decorator \n",
        "`@classmethod `\n",
        "` def abc(cls,kkk):`\n",
        "`  pass`"
      ],
      "metadata": {
        "id": "aYYgNlEDTTXH"
      }
    },
    {
      "cell_type": "code",
      "source": [
        "class employee:\n",
        "  raised = 1.04\n",
        "  emp_num = 0\n",
        "  def __init__(self,first,last,sal):\n",
        "    self.fn = first\n",
        "    self.ln = last\n",
        "    self.sal = sal\n",
        "    \n",
        "    employee.emp_num += 1\n",
        "\n",
        "  def fullname(self):\n",
        "    return '{} {}'.format(self.fn,self.ln)\n",
        "  def apply_raise(self):\n",
        "    self.sal = int(self.sal * employee.raised)\n",
        "\n",
        "  @classmethod\n",
        "  def set_amt(cls,amount):\n",
        "    cls.raised = amount\n",
        "  \n",
        "employee.set_amt(1.056)\n",
        "print(employee.raised)"
      ],
      "metadata": {
        "colab": {
          "base_uri": "https://localhost:8080/"
        },
        "id": "DCccqb6XV8Cb",
        "outputId": "d36b11b1-68ec-420a-ef72-15c72408a04f"
      },
      "execution_count": null,
      "outputs": [
        {
          "output_type": "stream",
          "name": "stdout",
          "text": [
            "1.056\n"
          ]
        }
      ]
    },
    {
      "cell_type": "markdown",
      "source": [
        "Create an employee by splitting a single string seperated by -"
      ],
      "metadata": {
        "id": "aBtUo-XoYHT1"
      }
    },
    {
      "cell_type": "code",
      "source": [
        "emp_str_1 = 'Sam-Alex-20000'\n",
        "emp_str_2 = 'Mark-Tommy-30028'\n",
        "first , last , sal = emp_str_1.split('-')\n",
        "new_emp1 = employee(first,last,sal)\n",
        "first,last,sal = emp_str_2.split('-')\n",
        "new_emp2 = employee(first,last,sal)\n",
        "\n",
        "print(new_emp1.sal)\n",
        "print(new_emp1.fullname())\n",
        "print(new_emp2.fullname())\n"
      ],
      "metadata": {
        "colab": {
          "base_uri": "https://localhost:8080/"
        },
        "id": "3Io-ykQHYPR5",
        "outputId": "b1f9fe00-3482-403b-8e7b-a5da8f2697a1"
      },
      "execution_count": null,
      "outputs": [
        {
          "output_type": "stream",
          "name": "stdout",
          "text": [
            "20000\n",
            "Sam Alex\n",
            "Mark Tommy\n"
          ]
        }
      ]
    },
    {
      "cell_type": "code",
      "source": [],
      "metadata": {
        "id": "Hbalia_TY13_"
      },
      "execution_count": null,
      "outputs": []
    }
  ]
}